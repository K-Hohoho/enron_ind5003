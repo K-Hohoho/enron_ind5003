{
 "cells": [
  {
   "cell_type": "markdown",
   "metadata": {},
   "source": [
    "# IND5003 Enron Project\n",
    "## Contents of this Jupyter Notebook\n",
    "### Dataset\n",
    "Dataset from Prof: \n",
    "(https://www.cs.cmu.edu/~./enron/)\n",
    "- Unstructured Dataset containing raw text in the form of emails\n",
    "**Make sure that the dataset 'maildir' is in the same directory as your project on your own system. Else this would not work**"
   ]
  },
  {
   "cell_type": "markdown",
   "metadata": {},
   "source": [
    "## Approach to this Project\n",
    "\n",
    "### Research Questions\n",
    "(Use research questions to provide a narrative and storyline in our analysis of the Enron Email Corpus)\n",
    "\n",
    "We would be taking a broad to narrow approach in terms of the narrative that we are looking to create. \n",
    "\n",
    "Some research questions that we would be hoping to analyse in this project are:\n",
    "1. Are there any topical shifts that we can identify prior, leading up to and after the fraud has been exposed?\n",
    "2. Can we detect sentiment shifts and anomalies in communication patterns leading up to, during and after the exposure of the fraud?\n",
    "3. Identification of key individuals involved in the key discussions and anomalies in their comms patterns\n",
    "\n",
    "#### Timeline\n",
    "\n",
    "We have an intention to split our analysis into 3 defined timeframes:\n",
    "1. Pre-Crisis (June 1999 - Aug 2001)\n",
    "2. During Crisis ( Sep 2000 - Oct 2001 )\n",
    "3. Post Crisis ( Nov 2001 - June 2002)\n",
    "\n",
    "*** [GUYS WE NEED TO THINK OF THE DATES TO SPLIT THE TIMEFRAMES INTO. I WAS THINKING WE CAN FOLLOW JUST THE TIMELINE. THIS PART DEFINITELY HAVE TO STATE ASSUMPTIONS] ***\n",
    "\n",
    "These research questions would be answered using a variety of NLP and Unsupervised Learning Techniques. \n",
    "\n",
    "*** [GUYS WE NEED TO THINK OF THE TECHNIQUES] ***\n",
    "1. t-sne for initial identification of clusters\n",
    "2. LDA for topic identification\n",
    "3. Named entity recognition for trends in any entity\n",
    "4. Sentimental Analysis\n",
    "5. Anomaly detection (HOW?) \n",
    "6. Information retrieval to identify relevant individuals"
   ]
  },
  {
   "cell_type": "markdown",
   "metadata": {},
   "source": [
    "### Overall Steps to Tackle this Project\n",
    "1. Data Extraction\n",
    "2. Data Cleaning & Preprocessing\n",
    "3. Initial Data Exploration\n",
    "    - Sender Frequency Analysis\n",
    "    - Number of Emails Across Time\n",
    "    - General topic modeling\n",
    "    - General sentiment analysis\n",
    "    - Word Cloud & Bar Charts for the Top Senders (20%)\n",
    "    - Network Graph\n",
    "    - t-sne graph\n",
    "4. Research Questions\n",
    "    1. Temporal Topical shifts using LDA Topic Modeling\n",
    "    2. Temporal Sentimental Analysis - Segment the emails by quarters. Look at the way communication changes over time.\n",
    "    3. Anomaly detection using?\n",
    "    4. Key individual detection using?\n",
    "\n",
    "    "
   ]
  },
  {
   "cell_type": "markdown",
   "metadata": {},
   "source": [
    "## Section 1: Data Extraction\n",
    "- Extract the emails from the unstructured raw folder\n"
   ]
  },
  {
   "cell_type": "code",
   "execution_count": 56,
   "metadata": {},
   "outputs": [],
   "source": [
    "# Import the relevant libraries required for Section 1\n",
    "import os # Required for directory traversal\n",
    "import pandas as pd\n",
    "import email\n",
    "from email import policy\n",
    "from email.parser import BytesParser\n",
    "from collections import defaultdict\n",
    "from itertools import islice\n",
    "\n",
    "# additional libraries added for possible usage\n",
    "import numpy as np\n",
    "import pprint\n",
    "\n",
    "import gensim\n",
    "from gensim.parsing.preprocessing import *\n",
    "import gensim.downloader as api\n",
    "from nltk.stem import PorterStemmer, WordNetLemmatizer\n",
    "\n",
    "from sklearn.feature_extraction.text import CountVectorizer, TfidfVectorizer\n",
    "from sklearn.metrics.pairwise import cosine_similarity\n",
    "from sklearn import manifold\n",
    "\n",
    "from transformers import pipeline\n",
    "\n",
    "import pyLDAvis\n",
    "import pyLDAvis.gensim_models as gensimvis\n",
    "import matplotlib.pyplot as plt\n",
    "import plotly.express as px\n"
   ]
  },
  {
   "cell_type": "code",
   "execution_count": 57,
   "metadata": {},
   "outputs": [],
   "source": [
    "# # Set the maildir path to the respective paths in your system \n",
    "# # ! Note that maildir should be in the same directory as your project on your own system, would change if you are using windows\n",
    "# maildir_path = '/Users/Dylan/Documents/IND5003/Projects/maildir'"
   ]
  },
  {
   "cell_type": "code",
   "execution_count": 58,
   "metadata": {},
   "outputs": [],
   "source": [
    "# # Create a list of all the directories in the maildir for sanity check\n",
    "# maildir_list = os.listdir(maildir_path)\n",
    "# print(maildir_list)"
   ]
  },
  {
   "cell_type": "code",
   "execution_count": 59,
   "metadata": {},
   "outputs": [],
   "source": [
    "# def parse_email(file_path):\n",
    "#     try:\n",
    "#         with open(file_path, 'rb') as f:\n",
    "#             msg = BytesParser(policy=policy.default).parse(f)\n",
    "        \n",
    "#         # Extract fields from the email\n",
    "#         email_from = msg['From']\n",
    "#         email_to = msg['To']\n",
    "#         email_date = msg['Date']\n",
    "#         email_subject = msg['Subject']\n",
    "#         email_body = msg.get_body(preferencelist=('plain')).get_content() if msg.get_body(preferencelist=('plain')) else ''\n",
    "        \n",
    "#         return [email_from, email_to, email_date, email_subject, email_body]\n",
    "#     except Exception as e:\n",
    "#         print(f\"Error parsing file {file_path}: {e}\")\n",
    "#         return None\n",
    "\n",
    "# def batch_iterator(iterator, batch_size):\n",
    "#     \"\"\"Yield batches of specified size from an iterator.\"\"\"\n",
    "#     while True:\n",
    "#         batch = list(islice(iterator, batch_size))\n",
    "#         if not batch:\n",
    "#             break\n",
    "#         yield batch\n",
    "\n",
    "# def load_emails(maildir_path, batch_size=10, max_emails=50):\n",
    "#     email_data = []\n",
    "#     file_paths = []\n",
    "\n",
    "#     # Walk through the directory to collect file paths\n",
    "#     for root, dirs, files in os.walk(maildir_path):\n",
    "#         for file in files:\n",
    "#             if file == '.DS_Store' or file.startswith('.'):\n",
    "#                 continue  # Skip system files and hidden files\n",
    "#             file_paths.append(os.path.join(root, file))\n",
    "#             if len(file_paths) >= max_emails:\n",
    "#                 break\n",
    "#         if len(file_paths) >= max_emails:\n",
    "#             break\n",
    "\n",
    "#     # Process emails in batches\n",
    "#     for batch in batch_iterator(iter(file_paths), batch_size):\n",
    "#         batch_data = []\n",
    "#         for file_path in batch:\n",
    "#             result = parse_email(file_path)\n",
    "#             if result is not None:\n",
    "#                 batch_data.append(result)\n",
    "        \n",
    "#         # Append batch data to the main list\n",
    "#         email_data.extend(batch_data)\n",
    "\n",
    "#     # Create a DataFrame from the extracted data\n",
    "#     df = pd.DataFrame(email_data, columns=['From', 'To', 'Date', 'Subject', 'Body'])\n",
    "#     return df\n",
    "\n",
    "# # Load and parse emails\n",
    "# emails_df = load_emails(maildir_path, batch_size=10, max_emails=50)\n",
    "\n",
    "# # Display the DataFrame\n",
    "# print(emails_df.head())"
   ]
  },
  {
   "cell_type": "code",
   "execution_count": 60,
   "metadata": {},
   "outputs": [],
   "source": [
    "\n",
    "# # ! This is a very large dataset and will take a long time to run\n",
    "# # ! DO NOT RUN THIS FOR FUN UNLESS YOU WANT YOUR COMPUTER TO CRASH\n",
    "# def parse_email(file_path):\n",
    "#     try:\n",
    "#         with open(file_path, 'rb') as f:\n",
    "#             msg = BytesParser(policy=policy.default).parse(f)\n",
    "        \n",
    "#         # Extract fields from the email\n",
    "#         email_from = msg['From']\n",
    "#         email_to = msg['To']\n",
    "#         email_date = msg['Date']\n",
    "#         email_subject = msg['Subject']\n",
    "#         email_body = msg.get_body(preferencelist=('plain')).get_content() if msg.get_body(preferencelist=('plain')) else ''\n",
    "        \n",
    "#         return [email_from, email_to, email_date, email_subject, email_body]\n",
    "#     except Exception as e:\n",
    "#         print(f\"Error parsing file {file_path}: {e}\")\n",
    "#         return None\n",
    "\n",
    "# def batch_iterator(iterator, batch_size):\n",
    "#     \"\"\"Yield batches of specified size from an iterator.\"\"\"\n",
    "#     while True:\n",
    "#         batch = list(islice(iterator, batch_size))\n",
    "#         if not batch:\n",
    "#             break\n",
    "#         yield batch\n",
    "\n",
    "# def load_emails(maildir_path, batch_size=1000):\n",
    "#     email_data = []\n",
    "#     file_paths = []\n",
    "\n",
    "#     # Walk through the directory to collect file paths\n",
    "#     for root, dirs, files in os.walk(maildir_path):\n",
    "#         for file in files:\n",
    "#             if file == '.DS_Store' or file.startswith('.'):\n",
    "#                 continue  # Skip system files and hidden files\n",
    "#             file_paths.append(os.path.join(root, file))\n",
    "\n",
    "#     # Process emails in batches\n",
    "#     for batch in batch_iterator(iter(file_paths), batch_size):\n",
    "#         batch_data = []\n",
    "#         for file_path in batch:\n",
    "#             result = parse_email(file_path)\n",
    "#             if result is not None:\n",
    "#                 batch_data.append(result)\n",
    "        \n",
    "#         # Append batch data to the main list\n",
    "#         email_data.extend(batch_data)\n",
    "\n",
    "#     # Create a DataFrame from the extracted data\n",
    "#     df = pd.DataFrame(email_data, columns=['From', 'To', 'Date', 'Subject', 'Body'])\n",
    "#     return df\n",
    "\n",
    "# # Load and parse emails\n",
    "# emails_df = load_emails(maildir_path, batch_size=1000)\n",
    "\n",
    "# # Display the DataFrame\n",
    "# print(emails_df.head())"
   ]
  },
  {
   "cell_type": "markdown",
   "metadata": {},
   "source": [
    "### Loading the Data into a Pandas DF"
   ]
  },
  {
   "cell_type": "code",
   "execution_count": 61,
   "metadata": {},
   "outputs": [],
   "source": [
    "# Convert emails_df to a CSV file\n",
    "# Save the DataFrame as a CSV file in the specified directory\n",
    "\n",
    "#emails_df.to_csv('/Users/Dylan/Documents/IND5003/Projects/emails_uncleaned.csv', index=False)\n"
   ]
  },
  {
   "cell_type": "code",
   "execution_count": 62,
   "metadata": {},
   "outputs": [],
   "source": [
    "# Load the CSV file back into a DataFrame\n",
    "\n",
    "# PLEASE CHANGE IT TO YOUR OWN DIRECTORY IN YOUR OWN SYSTEM \n",
    "\n",
    "# Load the CSV file back into a DataFrame\n",
    "\n",
    "# PLEASE CHANGE IT TO YOUR OWN DIRECTORY IN YOUR OWN SYSTEM \n",
    "\n",
    "enron_uncleaned_emails = pd.read_csv('/Users/Dylan/Documents/IND5003/Projects/enron_emails_uncleaned.csv')"
   ]
  },
  {
   "cell_type": "code",
   "execution_count": 63,
   "metadata": {},
   "outputs": [
    {
     "data": {
      "text/html": [
       "<div>\n",
       "<style scoped>\n",
       "    .dataframe tbody tr th:only-of-type {\n",
       "        vertical-align: middle;\n",
       "    }\n",
       "\n",
       "    .dataframe tbody tr th {\n",
       "        vertical-align: top;\n",
       "    }\n",
       "\n",
       "    .dataframe thead th {\n",
       "        text-align: right;\n",
       "    }\n",
       "</style>\n",
       "<table border=\"1\" class=\"dataframe\">\n",
       "  <thead>\n",
       "    <tr style=\"text-align: right;\">\n",
       "      <th></th>\n",
       "      <th>From</th>\n",
       "      <th>To</th>\n",
       "      <th>Date</th>\n",
       "      <th>Subject</th>\n",
       "      <th>Body</th>\n",
       "    </tr>\n",
       "  </thead>\n",
       "  <tbody>\n",
       "    <tr>\n",
       "      <th>0</th>\n",
       "      <td>msagel@home.com</td>\n",
       "      <td>jarnold@enron.com</td>\n",
       "      <td>Thu, 16 Nov 2000 09:30:00 -0800</td>\n",
       "      <td>Status</td>\n",
       "      <td>John:\\n?\\nI'm not really sure what happened be...</td>\n",
       "    </tr>\n",
       "    <tr>\n",
       "      <th>1</th>\n",
       "      <td>slafontaine@globalp.com</td>\n",
       "      <td>john.arnold@enron.com</td>\n",
       "      <td>Fri, 08 Dec 2000 05:05:00 -0800</td>\n",
       "      <td>re:summer inverses</td>\n",
       "      <td>i suck-hope youve made more money in natgas la...</td>\n",
       "    </tr>\n",
       "    <tr>\n",
       "      <th>2</th>\n",
       "      <td>iceoperations@intcx.com</td>\n",
       "      <td>icehelpdesk@intcx.com, internalmarketing@intcx...</td>\n",
       "      <td>Tue, 15 May 2001 09:43:00 -0700</td>\n",
       "      <td>The WTI Bullet swap contracts</td>\n",
       "      <td>Hi,\\n\\n\\n  Following the e-mail you have rece...</td>\n",
       "    </tr>\n",
       "    <tr>\n",
       "      <th>3</th>\n",
       "      <td>jeff.youngflesh@enron.com</td>\n",
       "      <td>anthony.gilmore@enron.com, colleen.koenig@enro...</td>\n",
       "      <td>Mon, 27 Nov 2000 01:49:00 -0800</td>\n",
       "      <td>Invitation: EBS/GSS Meeting w/Bristol Babcock ...</td>\n",
       "      <td>Conference Room TBD.  \\n\\nThis meeting will be...</td>\n",
       "    </tr>\n",
       "    <tr>\n",
       "      <th>4</th>\n",
       "      <td>caroline.abramo@enron.com</td>\n",
       "      <td>mike.grigsby@enron.com</td>\n",
       "      <td>Tue, 12 Dec 2000 09:33:00 -0800</td>\n",
       "      <td>Harvard Mgmt</td>\n",
       "      <td>Mike- I have their trader coming into the offi...</td>\n",
       "    </tr>\n",
       "  </tbody>\n",
       "</table>\n",
       "</div>"
      ],
      "text/plain": [
       "                        From  \\\n",
       "0            msagel@home.com   \n",
       "1    slafontaine@globalp.com   \n",
       "2    iceoperations@intcx.com   \n",
       "3  jeff.youngflesh@enron.com   \n",
       "4  caroline.abramo@enron.com   \n",
       "\n",
       "                                                  To  \\\n",
       "0                                  jarnold@enron.com   \n",
       "1                              john.arnold@enron.com   \n",
       "2  icehelpdesk@intcx.com, internalmarketing@intcx...   \n",
       "3  anthony.gilmore@enron.com, colleen.koenig@enro...   \n",
       "4                             mike.grigsby@enron.com   \n",
       "\n",
       "                              Date  \\\n",
       "0  Thu, 16 Nov 2000 09:30:00 -0800   \n",
       "1  Fri, 08 Dec 2000 05:05:00 -0800   \n",
       "2  Tue, 15 May 2001 09:43:00 -0700   \n",
       "3  Mon, 27 Nov 2000 01:49:00 -0800   \n",
       "4  Tue, 12 Dec 2000 09:33:00 -0800   \n",
       "\n",
       "                                             Subject  \\\n",
       "0                                             Status   \n",
       "1                                 re:summer inverses   \n",
       "2                      The WTI Bullet swap contracts   \n",
       "3  Invitation: EBS/GSS Meeting w/Bristol Babcock ...   \n",
       "4                                       Harvard Mgmt   \n",
       "\n",
       "                                                Body  \n",
       "0  John:\\n?\\nI'm not really sure what happened be...  \n",
       "1  i suck-hope youve made more money in natgas la...  \n",
       "2   Hi,\\n\\n\\n  Following the e-mail you have rece...  \n",
       "3  Conference Room TBD.  \\n\\nThis meeting will be...  \n",
       "4  Mike- I have their trader coming into the offi...  "
      ]
     },
     "execution_count": 63,
     "metadata": {},
     "output_type": "execute_result"
    }
   ],
   "source": [
    "enron_uncleaned_emails.head()"
   ]
  },
  {
   "cell_type": "code",
   "execution_count": 64,
   "metadata": {},
   "outputs": [
    {
     "name": "stdout",
     "output_type": "stream",
     "text": [
      "                            From  \\\n",
      "617     louise.kitchen@enron.com   \n",
      "874     louise.kitchen@enron.com   \n",
      "910     louise.kitchen@enron.com   \n",
      "926     louise.kitchen@enron.com   \n",
      "5072    louise.kitchen@enron.com   \n",
      "...                          ...   \n",
      "503415  louise.kitchen@enron.com   \n",
      "503507  louise.kitchen@enron.com   \n",
      "509732  louise.kitchen@enron.com   \n",
      "509790  louise.kitchen@enron.com   \n",
      "509829  louise.kitchen@enron.com   \n",
      "\n",
      "                                                       To  \\\n",
      "617                                 john.arnold@enron.com   \n",
      "874     tim.belden@enron.com, f..calger@enron.com, m.....   \n",
      "910     wes.colwell@enron.com, georgeanne.hodges@enron...   \n",
      "926                                    c..bland@enron.com   \n",
      "5072                              john.lavorato@enron.com   \n",
      "...                                                   ...   \n",
      "503415  rob.milnthorp@enron.com, f..calger@enron.com, ...   \n",
      "503507  rob.milnthorp@enron.com, f..calger@enron.com, ...   \n",
      "509732  k..allen@enron.com, john.arnold@enron.com, har...   \n",
      "509790  rob.milnthorp@enron.com, f..calger@enron.com, ...   \n",
      "509829  rob.milnthorp@enron.com, f..calger@enron.com, ...   \n",
      "\n",
      "                                   Date  \\\n",
      "617     Wed, 24 Oct 2001 11:05:03 -0700   \n",
      "874     Thu, 27 Dec 2001 14:58:02 -0800   \n",
      "910     Mon, 31 Dec 2001 10:53:43 -0800   \n",
      "926     Thu, 27 Sep 2001 06:24:25 -0700   \n",
      "5072    Tue, 23 Oct 2001 07:24:27 -0700   \n",
      "...                                 ...   \n",
      "503415  Wed, 06 Feb 2002 08:03:03 -0800   \n",
      "503507  Tue, 05 Feb 2002 15:08:44 -0800   \n",
      "509732  Wed, 07 Nov 2001 16:36:23 -0800   \n",
      "509790  Tue, 05 Feb 2002 19:08:44 -0800   \n",
      "509829  Wed, 06 Feb 2002 12:03:03 -0800   \n",
      "\n",
      "                                                 Subject  \\\n",
      "617                           Don't need to call me back   \n",
      "874                        Re-start/Integration Planning   \n",
      "910                                                NETCO   \n",
      "926     FW: Fantastic Friday/Super Saturday Interviewers   \n",
      "5072     FW: Management Conference - Business Unit Panel   \n",
      "...                                                  ...   \n",
      "503415                                 YOU HAVE 48 HOURS   \n",
      "503507                 Commercial Re-start Sub-Committee   \n",
      "509732                                          Baby Boy   \n",
      "509790                 Commercial Re-start Sub-Committee   \n",
      "509829                                 YOU HAVE 48 HOURS   \n",
      "\n",
      "                                                     Body  \n",
      "617            Sorry I completely forgot it was Wednesday  \n",
      "874     We have for the last couple of weeks started t...  \n",
      "910     The New Year has arrived and we really to fina...  \n",
      "926     \\nTed,\\n\\nThe people included in the cc: are t...  \n",
      "5072    ?????\\n\\n\\n----Original Message-----\\nFrom: \\t...  \n",
      "...                                                   ...  \n",
      "503415  This is not a circular and you will not get an...  \n",
      "503507  Following this morning's meeting, we have agre...  \n",
      "509732  \\nJack Anthony Lavorato just arrived weighing ...  \n",
      "509790  Following this morning's meeting, we have agre...  \n",
      "509829  This is not a circular and you will not get an...  \n",
      "\n",
      "[1752 rows x 5 columns]\n"
     ]
    }
   ],
   "source": [
    "# # Find \"kitchen\" in the column \"From\"\n",
    "\n",
    "# # This is to determine that there are still emails sent from louise kitchen despite the original parsing error due to the encoding of the email\n",
    "# kitchen_emails = enron_uncleaned_emails[enron_uncleaned_emails['From'].str.contains('kitchen', case=False, na=False)]\n",
    "# print(kitchen_emails)"
   ]
  },
  {
   "cell_type": "markdown",
   "metadata": {},
   "source": [
    "## Section 2: Data Preprocessing\n",
    "### Start with the Cleaning\n",
    "* Check for any nulls\n",
    "* Drop the missing values\n",
    "* Remove the duplicates\n",
    "* Format the dates \n",
    "\n"
   ]
  },
  {
   "cell_type": "code",
   "execution_count": 65,
   "metadata": {},
   "outputs": [
    {
     "name": "stdout",
     "output_type": "stream",
     "text": [
      "    Column  Missing Values\n",
      "0     From               0\n",
      "1       To           21847\n",
      "2     Date               0\n",
      "3  Subject           19187\n",
      "4     Body               0\n"
     ]
    }
   ],
   "source": [
    "# Check for Nulls in Each Column\n",
    "missing_values = enron_uncleaned_emails.isnull().sum()\n",
    "missing_values_df = pd.DataFrame({'Column': missing_values.index, 'Missing Values': missing_values.values})\n",
    "print(missing_values_df)"
   ]
  },
  {
   "cell_type": "code",
   "execution_count": 66,
   "metadata": {},
   "outputs": [
    {
     "data": {
      "text/html": [
       "<div>\n",
       "<style scoped>\n",
       "    .dataframe tbody tr th:only-of-type {\n",
       "        vertical-align: middle;\n",
       "    }\n",
       "\n",
       "    .dataframe tbody tr th {\n",
       "        vertical-align: top;\n",
       "    }\n",
       "\n",
       "    .dataframe thead th {\n",
       "        text-align: right;\n",
       "    }\n",
       "</style>\n",
       "<table border=\"1\" class=\"dataframe\">\n",
       "  <thead>\n",
       "    <tr style=\"text-align: right;\">\n",
       "      <th></th>\n",
       "      <th>From</th>\n",
       "      <th>To</th>\n",
       "      <th>Date</th>\n",
       "      <th>Subject</th>\n",
       "      <th>Body</th>\n",
       "    </tr>\n",
       "  </thead>\n",
       "  <tbody>\n",
       "    <tr>\n",
       "      <th>count</th>\n",
       "      <td>517396</td>\n",
       "      <td>495549</td>\n",
       "      <td>517396</td>\n",
       "      <td>498209</td>\n",
       "      <td>517396</td>\n",
       "    </tr>\n",
       "    <tr>\n",
       "      <th>unique</th>\n",
       "      <td>20326</td>\n",
       "      <td>58556</td>\n",
       "      <td>224119</td>\n",
       "      <td>159286</td>\n",
       "      <td>249020</td>\n",
       "    </tr>\n",
       "    <tr>\n",
       "      <th>top</th>\n",
       "      <td>kay.mann@enron.com</td>\n",
       "      <td>pete.davis@enron.com</td>\n",
       "      <td>Wed, 27 Jun 2001 16:02:00 -0700</td>\n",
       "      <td>RE:</td>\n",
       "      <td>As you know, Enron Net Works (ENW) and Enron G...</td>\n",
       "    </tr>\n",
       "    <tr>\n",
       "      <th>freq</th>\n",
       "      <td>16735</td>\n",
       "      <td>9155</td>\n",
       "      <td>1118</td>\n",
       "      <td>6477</td>\n",
       "      <td>112</td>\n",
       "    </tr>\n",
       "  </tbody>\n",
       "</table>\n",
       "</div>"
      ],
      "text/plain": [
       "                      From                    To  \\\n",
       "count               517396                495549   \n",
       "unique               20326                 58556   \n",
       "top     kay.mann@enron.com  pete.davis@enron.com   \n",
       "freq                 16735                  9155   \n",
       "\n",
       "                                   Date Subject  \\\n",
       "count                            517396  498209   \n",
       "unique                           224119  159286   \n",
       "top     Wed, 27 Jun 2001 16:02:00 -0700     RE:   \n",
       "freq                               1118    6477   \n",
       "\n",
       "                                                     Body  \n",
       "count                                              517396  \n",
       "unique                                             249020  \n",
       "top     As you know, Enron Net Works (ENW) and Enron G...  \n",
       "freq                                                  112  "
      ]
     },
     "execution_count": 66,
     "metadata": {},
     "output_type": "execute_result"
    }
   ],
   "source": [
    "# Description of the DataFrame\n",
    "enron_uncleaned_emails.describe()"
   ]
  },
  {
   "cell_type": "code",
   "execution_count": 67,
   "metadata": {},
   "outputs": [],
   "source": [
    "# Fill out the missing values with empty strings\n",
    "enron_cleaned_emails = enron_uncleaned_emails.fillna('')"
   ]
  },
  {
   "cell_type": "code",
   "execution_count": 68,
   "metadata": {},
   "outputs": [
    {
     "name": "stdout",
     "output_type": "stream",
     "text": [
      "    Column  Missing Values\n",
      "0     From               0\n",
      "1       To               0\n",
      "2     Date               0\n",
      "3  Subject               0\n",
      "4     Body               0\n"
     ]
    }
   ],
   "source": [
    "# Post cleaning Check\n",
    "missing_values_check = enron_cleaned_emails.isnull().sum()\n",
    "missing_values_df_check = pd.DataFrame({'Column': missing_values_check.index, 'Missing Values': missing_values_check.values})\n",
    "print(missing_values_df_check)"
   ]
  },
  {
   "cell_type": "code",
   "execution_count": 69,
   "metadata": {},
   "outputs": [
    {
     "data": {
      "text/html": [
       "<div>\n",
       "<style scoped>\n",
       "    .dataframe tbody tr th:only-of-type {\n",
       "        vertical-align: middle;\n",
       "    }\n",
       "\n",
       "    .dataframe tbody tr th {\n",
       "        vertical-align: top;\n",
       "    }\n",
       "\n",
       "    .dataframe thead th {\n",
       "        text-align: right;\n",
       "    }\n",
       "</style>\n",
       "<table border=\"1\" class=\"dataframe\">\n",
       "  <thead>\n",
       "    <tr style=\"text-align: right;\">\n",
       "      <th></th>\n",
       "      <th>From</th>\n",
       "      <th>To</th>\n",
       "      <th>Date</th>\n",
       "      <th>Subject</th>\n",
       "      <th>Body</th>\n",
       "    </tr>\n",
       "  </thead>\n",
       "  <tbody>\n",
       "    <tr>\n",
       "      <th>count</th>\n",
       "      <td>517396</td>\n",
       "      <td>517396</td>\n",
       "      <td>517396</td>\n",
       "      <td>517396</td>\n",
       "      <td>517396</td>\n",
       "    </tr>\n",
       "    <tr>\n",
       "      <th>unique</th>\n",
       "      <td>20326</td>\n",
       "      <td>58557</td>\n",
       "      <td>224119</td>\n",
       "      <td>159287</td>\n",
       "      <td>249020</td>\n",
       "    </tr>\n",
       "    <tr>\n",
       "      <th>top</th>\n",
       "      <td>kay.mann@enron.com</td>\n",
       "      <td></td>\n",
       "      <td>Wed, 27 Jun 2001 16:02:00 -0700</td>\n",
       "      <td></td>\n",
       "      <td>As you know, Enron Net Works (ENW) and Enron G...</td>\n",
       "    </tr>\n",
       "    <tr>\n",
       "      <th>freq</th>\n",
       "      <td>16735</td>\n",
       "      <td>21847</td>\n",
       "      <td>1118</td>\n",
       "      <td>19187</td>\n",
       "      <td>112</td>\n",
       "    </tr>\n",
       "  </tbody>\n",
       "</table>\n",
       "</div>"
      ],
      "text/plain": [
       "                      From      To                             Date Subject  \\\n",
       "count               517396  517396                           517396  517396   \n",
       "unique               20326   58557                           224119  159287   \n",
       "top     kay.mann@enron.com          Wed, 27 Jun 2001 16:02:00 -0700           \n",
       "freq                 16735   21847                             1118   19187   \n",
       "\n",
       "                                                     Body  \n",
       "count                                              517396  \n",
       "unique                                             249020  \n",
       "top     As you know, Enron Net Works (ENW) and Enron G...  \n",
       "freq                                                  112  "
      ]
     },
     "execution_count": 69,
     "metadata": {},
     "output_type": "execute_result"
    }
   ],
   "source": [
    "# Describe the cleaned DataFrame\n",
    "enron_cleaned_emails.describe()"
   ]
  },
  {
   "cell_type": "markdown",
   "metadata": {},
   "source": [
    "* From running the code above, the output would show that there are 249020 emails with unique bodies out of the 517396 emails. \n",
    "    * This means that ~51.9% of emails in the uncleaned dataframe are not unique\n",
    "    * This would ensure that the subsequent analytical metrics (when performing LDA, TFIDF, Word2vec) are not inflated. "
   ]
  },
  {
   "cell_type": "code",
   "execution_count": 98,
   "metadata": {},
   "outputs": [
    {
     "data": {
      "text/html": [
       "<div>\n",
       "<style scoped>\n",
       "    .dataframe tbody tr th:only-of-type {\n",
       "        vertical-align: middle;\n",
       "    }\n",
       "\n",
       "    .dataframe tbody tr th {\n",
       "        vertical-align: top;\n",
       "    }\n",
       "\n",
       "    .dataframe thead th {\n",
       "        text-align: right;\n",
       "    }\n",
       "</style>\n",
       "<table border=\"1\" class=\"dataframe\">\n",
       "  <thead>\n",
       "    <tr style=\"text-align: right;\">\n",
       "      <th></th>\n",
       "      <th>Year</th>\n",
       "      <th>Month</th>\n",
       "    </tr>\n",
       "  </thead>\n",
       "  <tbody>\n",
       "    <tr>\n",
       "      <th>count</th>\n",
       "      <td>255488.000000</td>\n",
       "      <td>255488.000000</td>\n",
       "    </tr>\n",
       "    <tr>\n",
       "      <th>mean</th>\n",
       "      <td>2000.793153</td>\n",
       "      <td>6.849782</td>\n",
       "    </tr>\n",
       "    <tr>\n",
       "      <th>std</th>\n",
       "      <td>0.979924</td>\n",
       "      <td>3.678666</td>\n",
       "    </tr>\n",
       "    <tr>\n",
       "      <th>min</th>\n",
       "      <td>1980.000000</td>\n",
       "      <td>1.000000</td>\n",
       "    </tr>\n",
       "    <tr>\n",
       "      <th>25%</th>\n",
       "      <td>2000.000000</td>\n",
       "      <td>4.000000</td>\n",
       "    </tr>\n",
       "    <tr>\n",
       "      <th>50%</th>\n",
       "      <td>2001.000000</td>\n",
       "      <td>7.000000</td>\n",
       "    </tr>\n",
       "    <tr>\n",
       "      <th>75%</th>\n",
       "      <td>2001.000000</td>\n",
       "      <td>10.000000</td>\n",
       "    </tr>\n",
       "    <tr>\n",
       "      <th>max</th>\n",
       "      <td>2044.000000</td>\n",
       "      <td>12.000000</td>\n",
       "    </tr>\n",
       "  </tbody>\n",
       "</table>\n",
       "</div>"
      ],
      "text/plain": [
       "                Year          Month\n",
       "count  255488.000000  255488.000000\n",
       "mean     2000.793153       6.849782\n",
       "std         0.979924       3.678666\n",
       "min      1980.000000       1.000000\n",
       "25%      2000.000000       4.000000\n",
       "50%      2001.000000       7.000000\n",
       "75%      2001.000000      10.000000\n",
       "max      2044.000000      12.000000"
      ]
     },
     "execution_count": 98,
     "metadata": {},
     "output_type": "execute_result"
    }
   ],
   "source": [
    "# Remove duplicate emails based on the 'Body' column, keeping only the first occurrence\n",
    "enron_cleaned_emails_body_unique = enron_cleaned_emails.drop_duplicates(subset=['Body', 'From', 'To', 'Date', 'Subject'], keep='first')\n",
    "# Describe the DataFrame after removing duplicates\n",
    "enron_cleaned_emails_body_unique.describe()"
   ]
  },
  {
   "cell_type": "code",
   "execution_count": 71,
   "metadata": {},
   "outputs": [],
   "source": [
    "# # When running the code block above, i observed that jeff dasovich sent the most emails. \n",
    "# # Now i want to explore the number of emails he sent\n",
    "# # Filter emails where 'From' is 'jeff.dasovich@enron.com'\n",
    "# jeff_emails = enron_cleaned_emails_body_unique[enron_cleaned_emails_body_unique['From'] == 'jeff.dasovich@enron.com']\n",
    "\n",
    "# # Count the number of emails he sent\n",
    "# jeff_emails_count = jeff_emails.shape[0]\n",
    "\n",
    "# # Display the count\n",
    "# print(f\"Jeff Dasovich sent {jeff_emails_count} emails.\")\n",
    "\n",
    "# # Display the first few rows of Jeff's emails\n",
    "# jeff_emails.head()\n"
   ]
  },
  {
   "cell_type": "code",
   "execution_count": 99,
   "metadata": {},
   "outputs": [
    {
     "name": "stdout",
     "output_type": "stream",
     "text": [
      "From                    object\n",
      "To                      object\n",
      "Date       datetime64[ns, UTC]\n",
      "Subject                 object\n",
      "Body                    object\n",
      "Year                     int32\n",
      "Month                    int32\n",
      "dtype: object\n"
     ]
    },
    {
     "name": "stderr",
     "output_type": "stream",
     "text": [
      "/var/folders/mg/37xvz49s5ybb842_sy2sm9500000gp/T/ipykernel_37347/3657851918.py:2: SettingWithCopyWarning: \n",
      "A value is trying to be set on a copy of a slice from a DataFrame.\n",
      "Try using .loc[row_indexer,col_indexer] = value instead\n",
      "\n",
      "See the caveats in the documentation: https://pandas.pydata.org/pandas-docs/stable/user_guide/indexing.html#returning-a-view-versus-a-copy\n",
      "  enron_cleaned_emails_body_unique['Date'] = pd.to_datetime(enron_cleaned_emails_body_unique['Date'], errors='coerce', utc=False)\n"
     ]
    }
   ],
   "source": [
    "# Convert the Date column to a pandas datetime object in the deduplicated dataframe\n",
    "enron_cleaned_emails_body_unique['Date'] = pd.to_datetime(enron_cleaned_emails_body_unique['Date'], errors='coerce', utc=False)\n",
    "\n",
    "# Print the types of each column to ensure that the Date column is now a datetime object\n",
    "print(enron_cleaned_emails_body_unique.dtypes)"
   ]
  },
  {
   "cell_type": "code",
   "execution_count": 100,
   "metadata": {},
   "outputs": [
    {
     "name": "stdout",
     "output_type": "stream",
     "text": [
      "    Year  Emails\n",
      "0   1980     292\n",
      "1   1986       2\n",
      "2   1997     112\n",
      "3   1998      90\n",
      "4   1999    4909\n",
      "5   2000   65982\n",
      "6   2001  154653\n",
      "7   2002   29371\n",
      "8   2004      66\n",
      "9   2005       1\n",
      "10  2007       1\n",
      "11  2012       2\n",
      "12  2020       2\n",
      "13  2024       1\n",
      "14  2043       1\n",
      "15  2044       3\n"
     ]
    },
    {
     "name": "stderr",
     "output_type": "stream",
     "text": [
      "/var/folders/mg/37xvz49s5ybb842_sy2sm9500000gp/T/ipykernel_37347/1423056704.py:2: SettingWithCopyWarning: \n",
      "A value is trying to be set on a copy of a slice from a DataFrame.\n",
      "Try using .loc[row_indexer,col_indexer] = value instead\n",
      "\n",
      "See the caveats in the documentation: https://pandas.pydata.org/pandas-docs/stable/user_guide/indexing.html#returning-a-view-versus-a-copy\n",
      "  enron_cleaned_emails_body_unique['Year'] = enron_cleaned_emails_body_unique['Year'].astype('Int64')\n"
     ]
    }
   ],
   "source": [
    "# Convert the 'Year' column to an integer type to remove the decimal place\n",
    "enron_cleaned_emails_body_unique['Year'] = enron_cleaned_emails_body_unique['Year'].astype('Int64')\n",
    "\n",
    "# Count the number of emails sent per year and sort the index (years)\n",
    "emails_per_year = enron_cleaned_emails_body_unique['Year'].value_counts().sort_index()\n",
    "\n",
    "# Create a DataFrame to hold the year and the number of emails\n",
    "emails_per_year_df = pd.DataFrame({'Year': emails_per_year.index, 'Emails': emails_per_year.values})\n",
    "\n",
    "# Print the resulting DataFrame\n",
    "print(emails_per_year_df)\n"
   ]
  },
  {
   "cell_type": "code",
   "execution_count": 101,
   "metadata": {},
   "outputs": [
    {
     "name": "stderr",
     "output_type": "stream",
     "text": [
      "/var/folders/mg/37xvz49s5ybb842_sy2sm9500000gp/T/ipykernel_37347/703201955.py:2: SettingWithCopyWarning: \n",
      "A value is trying to be set on a copy of a slice from a DataFrame.\n",
      "Try using .loc[row_indexer,col_indexer] = value instead\n",
      "\n",
      "See the caveats in the documentation: https://pandas.pydata.org/pandas-docs/stable/user_guide/indexing.html#returning-a-view-versus-a-copy\n",
      "  enron_cleaned_emails_body_unique['Month'] = enron_cleaned_emails_body_unique['Date'].dt.month.astype('Int64')\n"
     ]
    },
    {
     "name": "stdout",
     "output_type": "stream",
     "text": [
      "Year  Month\n",
      "1980  1        292\n",
      "1986  4          1\n",
      "      5          1\n",
      "1997  1          1\n",
      "      3         10\n",
      "              ... \n",
      "2012  11         2\n",
      "2020  12         2\n",
      "2024  5          1\n",
      "2043  12         1\n",
      "2044  1          3\n",
      "Name: From, Length: 73, dtype: int64\n"
     ]
    }
   ],
   "source": [
    "# Create another column with the months of each row using the deduplicated dataframe\n",
    "enron_cleaned_emails_body_unique['Month'] = enron_cleaned_emails_body_unique['Date'].dt.month.astype('Int64')\n",
    "\n",
    "# Group the dataframe by Year and Month and count the number of emails (using 'From' as the count reference)\n",
    "emails_per_month_year = enron_cleaned_emails_body_unique.groupby(['Year', 'Month']).count()['From']\n",
    "\n",
    "# Print the resulting grouped data\n",
    "print(emails_per_month_year)\n"
   ]
  },
  {
   "cell_type": "code",
   "execution_count": 102,
   "metadata": {},
   "outputs": [
    {
     "data": {
      "text/plain": [
       "Month\n",
       "1     17154\n",
       "2      6756\n",
       "3      2930\n",
       "4       954\n",
       "5       748\n",
       "6       745\n",
       "7        76\n",
       "9         6\n",
       "10        1\n",
       "12        1\n",
       "Name: From, dtype: int64"
      ]
     },
     "execution_count": 102,
     "metadata": {},
     "output_type": "execute_result"
    }
   ],
   "source": [
    "# Check the number of emails in 2002 divided by month\n",
    "emails_per_month_year[2002]"
   ]
  },
  {
   "cell_type": "code",
   "execution_count": 103,
   "metadata": {},
   "outputs": [
    {
     "data": {
      "image/png": "[encoded data removed]",
      "text/plain": [
       "<Figure size 1000x500 with 1 Axes>"
      ]
     },
     "metadata": {},
     "output_type": "display_data"
    }
   ],
   "source": [
    "# Create large plot size\n",
    "plt.figure(figsize=(10, 5))\n",
    "emails_per_month_year.plot()\n",
    "# Add tick marks in the x axis for every 3 months\n",
    "plt.xticks(np.arange(0, len(emails_per_month_year), step=3), rotation=45,\n",
    "           labels=[f\"{year}-{month}\" for year, month in emails_per_month_year.index][::3])\n",
    "plt.ylabel('Number of Emails')\n",
    "plt.title('Number of Emails Sent Over Time')\n",
    "plt.grid()\n",
    "plt.show()"
   ]
  },
  {
   "cell_type": "markdown",
   "metadata": {},
   "source": [
    "## Debug Duplicates section\n",
    "(Can ignore)"
   ]
  },
  {
   "cell_type": "markdown",
   "metadata": {},
   "source": [
    "If anybody is interested, there was an initial screw up in dropping the duplicates of those emails that had the same Body\n",
    "    - Initially i only removed the duplicated emails based on the body column\n",
    "        - That means that if 2 or more emails had the exact same content even if they were sent by diff people, they were considered duplicates and only one was kept\n",
    "    - But if you look at July 2001, there were many emails with same body content, but different senders, recipients and dates\n"
   ]
  },
  {
   "cell_type": "code",
   "execution_count": 91,
   "metadata": {},
   "outputs": [
    {
     "name": "stdout",
     "output_type": "stream",
     "text": [
      "    Year  Emails\n",
      "0   1980     522\n",
      "1   1986       2\n",
      "2   1997     437\n",
      "3   1998     177\n",
      "4   1999   11144\n",
      "5   2000  196100\n",
      "6   2001  272964\n",
      "7   2002   35969\n",
      "8   2004      70\n",
      "9   2005       1\n",
      "10  2007       1\n",
      "11  2012       2\n",
      "12  2020       2\n",
      "13  2024       1\n",
      "14  2043       1\n",
      "15  2044       3\n"
     ]
    },
    {
     "data": {
      "image/png": "[encoded data removed]",
      "text/plain": [
       "<Figure size 1000x500 with 1 Axes>"
      ]
     },
     "metadata": {},
     "output_type": "display_data"
    }
   ],
   "source": [
    "# # ! ORGINAL CODE - DO NOT DELETE\n",
    "# # Convert the Date column to a pandas datetime object\n",
    "# enron_cleaned_emails['Date'] = pd.to_datetime(enron_cleaned_emails['Date'], errors='coerce', utc='False')\n",
    "\n",
    "# # Print the types of each column to ensure that the Date column is now a datetime object\n",
    "# enron_cleaned_emails.dtypes\n",
    "\n",
    "# # Create a table with the number of emails sent every year\n",
    "# enron_cleaned_emails['Year'] = enron_cleaned_emails['Date'].dt.year\n",
    "# emails_per_year = enron_cleaned_emails['Year'].value_counts().sort_index()\n",
    "# emails_per_year_df = pd.DataFrame({'Year': emails_per_year.index, 'Emails': emails_per_year.values})\n",
    "# print(emails_per_year_df)\n",
    "\n",
    "# enron_cleaned_emails['Month'] = enron_cleaned_emails['Date'].dt.month\n",
    "# # group the dataframe by Year and Month and cont the number of items in each index\n",
    "# emails_per_month_year = enron_cleaned_emails.groupby(['Year','Month']).count()['From']\n",
    "\n",
    "# # Create large plot size\n",
    "# plt.figure(figsize=(10, 5))\n",
    "# emails_per_month_year.plot()\n",
    "# # Add tick marks in the x axis for every 3 months\n",
    "# plt.xticks(np.arange(0, len(emails_per_month_year), step=3), rotation=45,\n",
    "#            labels=[f\"{year}-{month}\" for year, month in emails_per_month_year.index][::3])\n",
    "# plt.ylabel('Number of Emails')\n",
    "# plt.title('Number of Emails Sent Over Time')\n",
    "# plt.grid()\n",
    "# plt.show()"
   ]
  },
  {
   "cell_type": "code",
   "execution_count": 90,
   "metadata": {},
   "outputs": [
    {
     "name": "stdout",
     "output_type": "stream",
     "text": [
      "Number of emails in July 2001 (Original): 9726\n",
      "Number of emails in July 2001 (Deduplicated): 1\n"
     ]
    }
   ],
   "source": [
    "# # sanity check - to inspect why the number of emails in July 2001 is 1 after deduplicating\n",
    "# # Filter the original dataframe for emails sent in July 2001\n",
    "# july_2001_emails_original = enron_cleaned_emails[(enron_cleaned_emails['Date'] >= '2001-07-01') & \n",
    "#                                                  (enron_cleaned_emails['Date'] <= '2001-07-31')]\n",
    "\n",
    "# # Filter the deduplicated dataframe for emails sent in July 2001\n",
    "# july_2001_emails_deduplicated = enron_cleaned_emails_body_unique[(enron_cleaned_emails_body_unique['Date'] >= '2001-07-01') & \n",
    "#                                                                  (enron_cleaned_emails_body_unique['Date'] <= '2001-07-31')]\n",
    "\n",
    "# # Compare the number of emails before and after deduplication\n",
    "# print(f\"Number of emails in July 2001 (Original): {july_2001_emails_original.shape[0]}\")\n",
    "# print(f\"Number of emails in July 2001 (Deduplicated): {july_2001_emails_deduplicated.shape[0]}\")\n"
   ]
  },
  {
   "cell_type": "code",
   "execution_count": 95,
   "metadata": {},
   "outputs": [
    {
     "data": {
      "text/plain": [
       "(4627, 7)"
      ]
     },
     "execution_count": 95,
     "metadata": {},
     "output_type": "execute_result"
    }
   ],
   "source": [
    "# # Check if there are emails in July 2001 that were removed due to duplicate 'Body' values\n",
    "# duplicates_july_2001 = july_2001_emails_original[july_2001_emails_original.duplicated(subset=['Body'], keep=False)]\n",
    "\n",
    "# # Display the first few rows of duplicates\n",
    "# duplicates_july_2001.head()\n",
    "# duplicates_july_2001.shape\n"
   ]
  },
  {
   "cell_type": "code",
   "execution_count": 96,
   "metadata": {},
   "outputs": [
    {
     "data": {
      "text/html": [
       "<div>\n",
       "<style scoped>\n",
       "    .dataframe tbody tr th:only-of-type {\n",
       "        vertical-align: middle;\n",
       "    }\n",
       "\n",
       "    .dataframe tbody tr th {\n",
       "        vertical-align: top;\n",
       "    }\n",
       "\n",
       "    .dataframe thead th {\n",
       "        text-align: right;\n",
       "    }\n",
       "</style>\n",
       "<table border=\"1\" class=\"dataframe\">\n",
       "  <thead>\n",
       "    <tr style=\"text-align: right;\">\n",
       "      <th></th>\n",
       "      <th>From</th>\n",
       "      <th>To</th>\n",
       "      <th>Date</th>\n",
       "      <th>Subject</th>\n",
       "      <th>Body</th>\n",
       "      <th>Year</th>\n",
       "      <th>Month</th>\n",
       "    </tr>\n",
       "  </thead>\n",
       "  <tbody>\n",
       "    <tr>\n",
       "      <th>0</th>\n",
       "      <td>msagel@home.com</td>\n",
       "      <td>jarnold@enron.com</td>\n",
       "      <td>2000-11-16 17:30:00+00:00</td>\n",
       "      <td>Status</td>\n",
       "      <td>John:\\n?\\nI'm not really sure what happened be...</td>\n",
       "      <td>2000</td>\n",
       "      <td>11</td>\n",
       "    </tr>\n",
       "    <tr>\n",
       "      <th>1</th>\n",
       "      <td>slafontaine@globalp.com</td>\n",
       "      <td>john.arnold@enron.com</td>\n",
       "      <td>2000-12-08 13:05:00+00:00</td>\n",
       "      <td>re:summer inverses</td>\n",
       "      <td>i suck-hope youve made more money in natgas la...</td>\n",
       "      <td>2000</td>\n",
       "      <td>12</td>\n",
       "    </tr>\n",
       "    <tr>\n",
       "      <th>2</th>\n",
       "      <td>iceoperations@intcx.com</td>\n",
       "      <td>icehelpdesk@intcx.com, internalmarketing@intcx...</td>\n",
       "      <td>2001-05-15 16:43:00+00:00</td>\n",
       "      <td>The WTI Bullet swap contracts</td>\n",
       "      <td>Hi,\\n\\n\\n  Following the e-mail you have rece...</td>\n",
       "      <td>2001</td>\n",
       "      <td>5</td>\n",
       "    </tr>\n",
       "    <tr>\n",
       "      <th>3</th>\n",
       "      <td>jeff.youngflesh@enron.com</td>\n",
       "      <td>anthony.gilmore@enron.com, colleen.koenig@enro...</td>\n",
       "      <td>2000-11-27 09:49:00+00:00</td>\n",
       "      <td>Invitation: EBS/GSS Meeting w/Bristol Babcock ...</td>\n",
       "      <td>Conference Room TBD.  \\n\\nThis meeting will be...</td>\n",
       "      <td>2000</td>\n",
       "      <td>11</td>\n",
       "    </tr>\n",
       "    <tr>\n",
       "      <th>4</th>\n",
       "      <td>caroline.abramo@enron.com</td>\n",
       "      <td>mike.grigsby@enron.com</td>\n",
       "      <td>2000-12-12 17:33:00+00:00</td>\n",
       "      <td>Harvard Mgmt</td>\n",
       "      <td>Mike- I have their trader coming into the offi...</td>\n",
       "      <td>2000</td>\n",
       "      <td>12</td>\n",
       "    </tr>\n",
       "  </tbody>\n",
       "</table>\n",
       "</div>"
      ],
      "text/plain": [
       "                        From  \\\n",
       "0            msagel@home.com   \n",
       "1    slafontaine@globalp.com   \n",
       "2    iceoperations@intcx.com   \n",
       "3  jeff.youngflesh@enron.com   \n",
       "4  caroline.abramo@enron.com   \n",
       "\n",
       "                                                  To  \\\n",
       "0                                  jarnold@enron.com   \n",
       "1                              john.arnold@enron.com   \n",
       "2  icehelpdesk@intcx.com, internalmarketing@intcx...   \n",
       "3  anthony.gilmore@enron.com, colleen.koenig@enro...   \n",
       "4                             mike.grigsby@enron.com   \n",
       "\n",
       "                       Date  \\\n",
       "0 2000-11-16 17:30:00+00:00   \n",
       "1 2000-12-08 13:05:00+00:00   \n",
       "2 2001-05-15 16:43:00+00:00   \n",
       "3 2000-11-27 09:49:00+00:00   \n",
       "4 2000-12-12 17:33:00+00:00   \n",
       "\n",
       "                                             Subject  \\\n",
       "0                                             Status   \n",
       "1                                 re:summer inverses   \n",
       "2                      The WTI Bullet swap contracts   \n",
       "3  Invitation: EBS/GSS Meeting w/Bristol Babcock ...   \n",
       "4                                       Harvard Mgmt   \n",
       "\n",
       "                                                Body  Year  Month  \n",
       "0  John:\\n?\\nI'm not really sure what happened be...  2000     11  \n",
       "1  i suck-hope youve made more money in natgas la...  2000     12  \n",
       "2   Hi,\\n\\n\\n  Following the e-mail you have rece...  2001      5  \n",
       "3  Conference Room TBD.  \\n\\nThis meeting will be...  2000     11  \n",
       "4  Mike- I have their trader coming into the offi...  2000     12  "
      ]
     },
     "execution_count": 96,
     "metadata": {},
     "output_type": "execute_result"
    }
   ],
   "source": [
    "# # Remove duplicates considering 'Body', 'From', 'To', 'Date', and 'Subject'\n",
    "# enron_cleaned_emails_body_unique_refined = enron_cleaned_emails.drop_duplicates(subset=['Body', 'From', 'To', 'Date', 'Subject'], keep='first')\n",
    "\n",
    "# # Describe the new DataFrame after refined deduplication\n",
    "# enron_cleaned_emails_body_unique_refined.describe()\n",
    "\n",
    "# # Display a few rows to verify the result\n",
    "# enron_cleaned_emails_body_unique_refined.head()\n"
   ]
  },
  {
   "cell_type": "code",
   "execution_count": 97,
   "metadata": {},
   "outputs": [
    {
     "name": "stderr",
     "output_type": "stream",
     "text": [
      "/var/folders/mg/37xvz49s5ybb842_sy2sm9500000gp/T/ipykernel_37347/711209652.py:2: SettingWithCopyWarning: \n",
      "A value is trying to be set on a copy of a slice from a DataFrame.\n",
      "Try using .loc[row_indexer,col_indexer] = value instead\n",
      "\n",
      "See the caveats in the documentation: https://pandas.pydata.org/pandas-docs/stable/user_guide/indexing.html#returning-a-view-versus-a-copy\n",
      "  enron_cleaned_emails_body_unique_refined['Month'] = enron_cleaned_emails_body_unique_refined['Date'].dt.month\n"
     ]
    },
    {
     "data": {
      "text/plain": [
       "<Axes: title={'center': 'Number of Emails Sent Over Time (Refined)'}, xlabel='Year,Month', ylabel='Number of Emails'>"
      ]
     },
     "execution_count": 97,
     "metadata": {},
     "output_type": "execute_result"
    },
    {
     "data": {
      "image/png": "[encoded data removed]",
      "text/plain": [
       "<Figure size 640x480 with 1 Axes>"
      ]
     },
     "metadata": {},
     "output_type": "display_data"
    }
   ],
   "source": [
    "# # Create another column with the months of each row in the refined deduplicated dataframe\n",
    "# enron_cleaned_emails_body_unique_refined['Month'] = enron_cleaned_emails_body_unique_refined['Date'].dt.month\n",
    "\n",
    "# # Group the refined dataframe by Year and Month and count the number of emails\n",
    "# emails_per_month_year_refined = enron_cleaned_emails_body_unique_refined.groupby(['Year', 'Month']).count()['From']\n",
    "\n",
    "# # Plot the number of emails sent over time using the refined deduplicated dataframe\n",
    "# emails_per_month_year_refined.plot(kind='line', title='Number of Emails Sent Over Time (Refined)', ylabel='Number of Emails', xlabel='Year,Month')\n"
   ]
  },
  {
   "cell_type": "markdown",
   "metadata": {},
   "source": [
    "We can see that emails start jumping up around December 1999, inreasing to its' peak at around Oct 2001 with notable decrease around August 2001. Afterwards the number of emails in the data set decreases until around June 2002. "
   ]
  },
  {
   "cell_type": "markdown",
   "metadata": {},
   "source": [
    "## Splitting into Different Time Frames"
   ]
  },
  {
   "cell_type": "code",
   "execution_count": 85,
   "metadata": {},
   "outputs": [],
   "source": [
    "# Divide the deduplicated enron_cleaned_emails_body_unique into 3 dataframes\n",
    "\n",
    "# The first dataframe for dates between June 1999 and August 2000 (Pre-crisis)\n",
    "enron_pre_crisis = enron_cleaned_emails_body_unique[(enron_cleaned_emails_body_unique['Date'] >= '1999-06-01') & \n",
    "                                                    (enron_cleaned_emails_body_unique['Date'] <= '2000-08-31')]\n",
    "\n",
    "# The second dataframe for dates between Sep 2000 to Oct 2001 (During crisis)\n",
    "enron_during_crisis = enron_cleaned_emails_body_unique[(enron_cleaned_emails_body_unique['Date'] >= '2000-09-01') & \n",
    "                                                       (enron_cleaned_emails_body_unique['Date'] <= '2001-10-31')]\n",
    "\n",
    "# The third dataframe for dates between November 2001 to June 2002 (Post-crisis)\n",
    "enron_post_crisis = enron_cleaned_emails_body_unique[(enron_cleaned_emails_body_unique['Date'] >= '2001-11-01') & \n",
    "                                                     (enron_cleaned_emails_body_unique['Date'] <= '2002-06-30')]\n"
   ]
  },
  {
   "cell_type": "markdown",
   "metadata": {},
   "source": [
    "# Section 4: Research Question 1 Analysis\n",
    "## Temporal Topic Shifts Using LDA Topic Modelling\n",
    "#### Continue here @ Kevin & Krisitina"
   ]
  },
  {
   "cell_type": "markdown",
   "metadata": {},
   "source": []
  }
 ],
 "metadata": {
  "kernelspec": {
   "display_name": "ind5003",
   "language": "python",
   "name": "python3"
  },
  "language_info": {
   "codemirror_mode": {
    "name": "ipython",
    "version": 3
   },
   "file_extension": ".py",
   "mimetype": "text/x-python",
   "name": "python",
   "nbconvert_exporter": "python",
   "pygments_lexer": "ipython3",
   "version": "3.10.11"
  }
 },
 "nbformat": 4,
 "nbformat_minor": 2
}
